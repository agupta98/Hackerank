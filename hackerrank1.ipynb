{
 "cells": [
  {
   "cell_type": "code",
   "execution_count": 1,
   "metadata": {
    "collapsed": false
   },
   "outputs": [
    {
     "name": "stdout",
     "output_type": "stream",
     "text": [
      "hello,World!\n"
     ]
    }
   ],
   "source": [
    "print(\"hello,World!\")"
   ]
  },
  {
   "cell_type": "code",
   "execution_count": 2,
   "metadata": {
    "collapsed": false
   },
   "outputs": [
    {
     "name": "stdout",
     "output_type": "stream",
     "text": [
      "How many chickens does it take to cross the road?\n",
      "How many chickens does it take to cross the road?\n"
     ]
    }
   ],
   "source": [
    "s = input()\n",
    "print(s)"
   ]
  },
  {
   "cell_type": "code",
   "execution_count": 5,
   "metadata": {
    "collapsed": false
   },
   "outputs": [
    {
     "name": "stdout",
     "output_type": "stream",
     "text": [
      "6\n",
      "Weird\n"
     ]
    }
   ],
   "source": [
    "n = int(input())\n",
    "if n % 2 ==1:\n",
    "    print(\"Weird\")\n",
    "elif n % 2==0 and (n >=2 and n <= 5):\n",
    "    print(\"Not Weird\")\n",
    "elif n % 2== 0 and (n >=6 and n <= 20):\n",
    "    print(\"Weird\")\n",
    "elif n % 2== 0 and n > 20:\n",
    "    print(\"Not Weird\")"
   ]
  },
  {
   "cell_type": "code",
   "execution_count": 6,
   "metadata": {
    "collapsed": false
   },
   "outputs": [
    {
     "name": "stdout",
     "output_type": "stream",
     "text": [
      "3\n",
      "2\n",
      "5\n",
      "1\n",
      "6\n"
     ]
    }
   ],
   "source": [
    "a = int(input())\n",
    "b = int(input())\n",
    "print(a + b)\n",
    "print(a - b)\n",
    "print(a * b)"
   ]
  },
  {
   "cell_type": "code",
   "execution_count": 7,
   "metadata": {
    "collapsed": false
   },
   "outputs": [
    {
     "name": "stdout",
     "output_type": "stream",
     "text": [
      "4\n",
      "3\n",
      "1\n",
      "1.3333333333333333\n"
     ]
    }
   ],
   "source": [
    "a = int(input())\n",
    "b =int(input())\n",
    "print(a // b)\n",
    "print(a / b)"
   ]
  },
  {
   "cell_type": "code",
   "execution_count": 9,
   "metadata": {
    "collapsed": false
   },
   "outputs": [
    {
     "name": "stdout",
     "output_type": "stream",
     "text": [
      "5\n",
      "0\n",
      "1\n",
      "4\n",
      "9\n",
      "16\n"
     ]
    }
   ],
   "source": [
    "n = int(input())\n",
    "for i in range(n):\n",
    "    print(i * i)"
   ]
  },
  {
   "cell_type": "code",
   "execution_count": 16,
   "metadata": {
    "collapsed": false
   },
   "outputs": [
    {
     "name": "stdout",
     "output_type": "stream",
     "text": [
      "1800\n",
      "False\n"
     ]
    }
   ],
   "source": [
    "year = int(input())\n",
    "res = False\n",
    "if (year % 400 ==0) or (year % 100 !=0 and year % 4 ==0):\n",
    "    res = True\n",
    "print(res)"
   ]
  },
  {
   "cell_type": "code",
   "execution_count": 15,
   "metadata": {
    "collapsed": false
   },
   "outputs": [
    {
     "name": "stdout",
     "output_type": "stream",
     "text": [
      "3\n",
      "123"
     ]
    }
   ],
   "source": [
    "n = int(input())\n",
    "for i in range(n):\n",
    "    print(i + 1,end ='')"
   ]
  },
  {
   "cell_type": "code",
   "execution_count": 18,
   "metadata": {
    "collapsed": false
   },
   "outputs": [],
   "source": [
    "year = 1800\n",
    "if (year % 400 == 0)\n",
    "    print(\"c;wc\")"
   ]
  },
  {
   "cell_type": "code",
   "execution_count": 2,
   "metadata": {
    "collapsed": false
   },
   "outputs": [
    {
     "name": "stdout",
     "output_type": "stream",
     "text": [
      "12\n",
      "insert 0 5\n",
      "insert 1 10\n",
      "insert 0 6\n",
      "print\n",
      "[6, 5, 10]\n",
      "remove 6\n",
      "append 9\n",
      "append 1\n",
      "sort\n",
      "print\n",
      "[1, 5, 9, 10]\n",
      "pop\n",
      "reverse\n",
      "print\n",
      "[9, 5, 1]\n"
     ]
    }
   ],
   "source": [
    "n = int(input())\n",
    "li =[]\n",
    "for i in range(n):\n",
    "    a = input().split()\n",
    "    if a[0] == \"insert\":\n",
    "        li.insert(int(a[1]),int(a[2]))\n",
    "    elif a[0] == \"print\":\n",
    "        print(li)\n",
    "    elif a[0] == \"remove\":\n",
    "        li.remove(int(a[1]))\n",
    "    elif a[0] == \"append\":\n",
    "        li.append(int(a[1]))\n",
    "    elif a[0] == \"sort\":\n",
    "        li.sort()\n",
    "    elif a[0] == \"pop\":\n",
    "        li.pop()\n",
    "    elif a[0] ==\"reverse\":\n",
    "        li.reverse()\n",
    "    \n",
    "        "
   ]
  },
  {
   "cell_type": "code",
   "execution_count": 7,
   "metadata": {
    "collapsed": false
   },
   "outputs": [
    {
     "name": "stdout",
     "output_type": "stream",
     "text": [
      "2\n",
      "1 2\n",
      "3713081631934410656\n"
     ]
    }
   ],
   "source": [
    "n = int(input())\n",
    "#t = tuple([int(x) for x in input().split()])\n",
    "t = tuple(map(int,input().split()))\n",
    "\n",
    "print(hash(t))"
   ]
  },
  {
   "cell_type": "code",
   "execution_count": 10,
   "metadata": {
    "collapsed": false
   },
   "outputs": [
    {
     "name": "stdout",
     "output_type": "stream",
     "text": [
      "1\n",
      "1\n",
      "1\n",
      "2\n",
      "[[0, 0, 0], [0, 0, 1], [0, 1, 0], [1, 0, 0], [1, 1, 1]]\n"
     ]
    }
   ],
   "source": [
    "f_arr = []\n",
    "x = int(input())\n",
    "y = int(input())\n",
    "z = int(input())\n",
    "n = int(input())\n",
    "for i in range(0,x + 1):\n",
    "    for j in range(0,y + 1):\n",
    "        for z in range(0,z + 1):\n",
    "            tmp = i + j + z\n",
    "            if (tmp !=n):\n",
    "                arr= [i,j,z]\n",
    "                f_arr.append(arr)\n",
    "print(f_arr)\n"
   ]
  },
  {
   "cell_type": "code",
   "execution_count": 13,
   "metadata": {
    "collapsed": false
   },
   "outputs": [
    {
     "name": "stdout",
     "output_type": "stream",
     "text": [
      "1\n",
      "1\n",
      "1\n",
      "2\n",
      "[[0, 0, 0], [0, 0, 1], [0, 1, 0], [1, 0, 0], [1, 1, 1]]\n"
     ]
    }
   ],
   "source": [
    "x,y,z,n = (int(input()) for _ in range(4))\n",
    "print([[a,b,c] for a in range(0,x + 1) for b in range(0,y + 1) for c in range(0,z + 1) if a + b + c !=n] )"
   ]
  },
  {
   "cell_type": "code",
   "execution_count": 18,
   "metadata": {
    "collapsed": false
   },
   "outputs": [
    {
     "name": "stdout",
     "output_type": "stream",
     "text": [
      "5\n",
      "2 3 6 6 5\n",
      "5\n"
     ]
    }
   ],
   "source": [
    "n = int(input())\n",
    "li =[int(x) for x in input().split()]\n",
    "s = set(li)\n",
    "s1 = list(s)\n",
    "y = sorted(s1)\n",
    "print(y[-2])"
   ]
  },
  {
   "cell_type": "code",
   "execution_count": 35,
   "metadata": {
    "collapsed": false
   },
   "outputs": [
    {
     "name": "stdout",
     "output_type": "stream",
     "text": [
      "4\n",
      "ra \n",
      "-50\n",
      "er\n",
      "-50\n",
      "ty\n",
      "-50\n",
      "ro\n",
      "51\n",
      "er\n",
      "ra \n",
      "ty\n"
     ]
    }
   ],
   "source": [
    "n = int(input())\n",
    "s_m = list()\n",
    "for i in range(n):\n",
    "    li = []\n",
    "    name = str(input())\n",
    "    score = float(input())\n",
    "    li.append(name)\n",
    "    li.append(score)\n",
    "    s_m.append(li)\n",
    "    \n",
    "k = list()\n",
    "for i in range(len(s_m)):\n",
    "    k.append(s_m[i][1])\n",
    "k = list(set(k))\n",
    "min_1 = min(k)\n",
    "k.remove(min_1)\n",
    "y = min(k)\n",
    "student_li = []\n",
    "for i in range(len(s_m)):\n",
    "    if y == s_m[i][1]:\n",
    "        student_li.append(s_m[i][0])\n",
    "student_li.sort()\n",
    "for i in range(len(student_li)):\n",
    "    print(student_li[i])"
   ]
  },
  {
   "cell_type": "code",
   "execution_count": 43,
   "metadata": {
    "collapsed": false
   },
   "outputs": [
    {
     "name": "stdout",
     "output_type": "stream",
     "text": [
      "3\n",
      "Krishna 67 68 69\n",
      "Arjun 70 98 63\n",
      "Malika 52 56 60\n",
      "Malika\n",
      "56.00\n"
     ]
    }
   ],
   "source": [
    "n = int(input())\n",
    "my_dict = {}\n",
    "for i in range(n):\n",
    "    ui = input().split()\n",
    "    sc = list(map(float,ui[1:]))\n",
    "    my_dict[ui[0]] = sum(sc)/len(sc)\n",
    "print(\"%.2f\" % my_dict[input()])\n"
   ]
  },
  {
   "cell_type": "code",
   "execution_count": null,
   "metadata": {
    "collapsed": true
   },
   "outputs": [],
   "source": []
  }
 ],
 "metadata": {
  "kernelspec": {
   "display_name": "Python 3",
   "language": "python",
   "name": "python3"
  },
  "language_info": {
   "codemirror_mode": {
    "name": "ipython",
    "version": 3
   },
   "file_extension": ".py",
   "mimetype": "text/x-python",
   "name": "python",
   "nbconvert_exporter": "python",
   "pygments_lexer": "ipython3",
   "version": "3.5.1"
  }
 },
 "nbformat": 4,
 "nbformat_minor": 1
}
